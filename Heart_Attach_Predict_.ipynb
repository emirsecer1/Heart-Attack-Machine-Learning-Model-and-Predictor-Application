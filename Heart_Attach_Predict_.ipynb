{
 "cells": [
  {
   "cell_type": "code",
   "execution_count": 4,
   "id": "047ceb67-d710-4a03-8a37-f596ec542803",
   "metadata": {},
   "outputs": [
    {
     "name": "stdin",
     "output_type": "stream",
     "text": [
      "Yaşınızı girin:  21\n",
      "Cinsiyetinizi girin (Erkek=1, Kadın=0):  1\n",
      "Göğüs ağrısı tipi (0-3 arası değer girin):  2\n",
      "Dinlenme sırasındaki kan basıncınızı girin:  100\n",
      "Kolesterol seviyenizi girin:  127\n",
      "Açlık kan şekeri > 120 mg/dl mi? (Evet=1, Hayır=0):  0\n",
      "Elektrokardiyografi sonuçları (0-2 arası değer girin):  1\n",
      "Maksimum kalp atış hızınızı girin:  144\n",
      "Egzersiz sonucu anjina (1=Evet, 0=Hayır):  1\n",
      "ST depresyonu değeri:  2\n",
      "Egzersiz sırasında ST segmenti eğimi (0-2 arası değer):  1\n",
      "Floroskopi ile tespit edilen büyük damar sayısı (0-3 arası):  2\n",
      "Thalassémie durumu (0=normal, 1=sabit, 2=hasar):  1\n"
     ]
    },
    {
     "name": "stdout",
     "output_type": "stream",
     "text": [
      "Kalp krizi riski düşük.\n"
     ]
    }
   ],
   "source": [
    "import numpy as np\n",
    "import joblib\n",
    "import warnings\n",
    "warnings.filterwarnings(\"ignore\", category=DeprecationWarning)\n",
    "warnings.filterwarnings(\"ignore\",category= FutureWarning)\n",
    "warnings.filterwarnings(\"ignore\",category=UserWarning)\n",
    "rf_tuned = joblib.load('rf_tuned_model.pkl')\n",
    "\n",
    "age = float(input(\"Yaşınızı girin: \"))\n",
    "sex = float(input(\"Cinsiyetinizi girin (Erkek=1, Kadın=0): \"))\n",
    "cp = float(input(\"Göğüs ağrısı tipi (0-3 arası değer girin): \"))\n",
    "trestbps = float(input(\"Dinlenme sırasındaki kan basıncınızı girin: \"))\n",
    "chol = float(input(\"Kolesterol seviyenizi girin: \"))\n",
    "fbs = float(input(\"Açlık kan şekeri > 120 mg/dl mi? (Evet=1, Hayır=0): \"))\n",
    "restecg = float(input(\"Elektrokardiyografi sonuçları (0-2 arası değer girin): \"))\n",
    "thalach = float(input(\"Maksimum kalp atış hızınızı girin: \"))\n",
    "exang = float(input(\"Egzersiz sonucu anjina (1=Evet, 0=Hayır): \"))\n",
    "oldpeak = float(input(\"ST depresyonu değeri: \"))\n",
    "slope = float(input(\"Egzersiz sırasında ST segmenti eğimi (0-2 arası değer): \"))\n",
    "ca = float(input(\"Floroskopi ile tespit edilen büyük damar sayısı (0-3 arası): \"))\n",
    "thal = float(input(\"Thalassémie durumu (0=normal, 1=sabit, 2=hasar): \"))\n",
    "\n",
    "user_data = np.array([[age, sex, cp, trestbps, chol, fbs, restecg, thalach, exang, oldpeak, slope, ca, thal]])\n",
    "\n",
    "prediction = rf_tuned.predict(user_data)\n",
    "\n",
    "if prediction[0] == 1:\n",
    "    print(\"Kalp krizi riski yüksek.\")\n",
    "else:\n",
    "    print(\"Kalp krizi riski düşük.\")\n"
   ]
  },
  {
   "cell_type": "code",
   "execution_count": null,
   "id": "151db784-d3db-4279-ba31-dcaf232aafc5",
   "metadata": {},
   "outputs": [],
   "source": []
  }
 ],
 "metadata": {
  "kernelspec": {
   "display_name": "Python 3 (ipykernel)",
   "language": "python",
   "name": "python3"
  },
  "language_info": {
   "codemirror_mode": {
    "name": "ipython",
    "version": 3
   },
   "file_extension": ".py",
   "mimetype": "text/x-python",
   "name": "python",
   "nbconvert_exporter": "python",
   "pygments_lexer": "ipython3",
   "version": "3.12.5"
  }
 },
 "nbformat": 4,
 "nbformat_minor": 5
}
